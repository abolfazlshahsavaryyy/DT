{
  "nbformat": 4,
  "nbformat_minor": 0,
  "metadata": {
    "colab": {
      "provenance": [],
      "authorship_tag": "ABX9TyOhQgwDqk+TB40UO1JYYieE",
      "include_colab_link": true
    },
    "kernelspec": {
      "name": "python3",
      "display_name": "Python 3"
    },
    "language_info": {
      "name": "python"
    }
  },
  "cells": [
    {
      "cell_type": "markdown",
      "metadata": {
        "id": "view-in-github",
        "colab_type": "text"
      },
      "source": [
        "<a href=\"https://colab.research.google.com/github/abolfazlshahsavaryyy/DT/blob/main/DT.ipynb\" target=\"_parent\"><img src=\"https://colab.research.google.com/assets/colab-badge.svg\" alt=\"Open In Colab\"/></a>"
      ]
    },
    {
      "cell_type": "code",
      "execution_count": 48,
      "metadata": {
        "id": "AtmVTGPsK2q1"
      },
      "outputs": [],
      "source": [
        "import pandas as pd\n",
        "import numpy as np\n",
        "from sklearn.tree import DecisionTreeClassifier"
      ]
    },
    {
      "cell_type": "code",
      "source": [
        "def compute_gini(*p):\n",
        "    if not (0.999 <= sum(p) <= 1.001):\n",
        "        raise ValueError(\"The probabilities must sum to 1.\")\n",
        "\n",
        "    result = 1\n",
        "    for i in p:\n",
        "        result -= i**2\n",
        "\n",
        "    return result"
      ],
      "metadata": {
        "id": "OrOJ2Tp6K63T"
      },
      "execution_count": 49,
      "outputs": []
    },
    {
      "cell_type": "code",
      "source": [
        "def compute_entropy(*p):\n",
        "    if not (0.999 <= sum(p) <= 1.001):\n",
        "        raise ValueError(\"The probabilities must sum to 1.\")\n",
        "\n",
        "    result = 0\n",
        "    for i in p:\n",
        "        if i > 0:\n",
        "            result += i * np.log2(i)\n",
        "\n",
        "    return -result"
      ],
      "metadata": {
        "id": "wljkhFS52zfM"
      },
      "execution_count": 50,
      "outputs": []
    },
    {
      "cell_type": "code",
      "source": [
        "def load_dataset(url:str)->pd.DataFrame:\n",
        "    raw_df=pd.read_csv(url)\n",
        "    return raw_df\n"
      ],
      "metadata": {
        "id": "8TPHFH2p4ZLm"
      },
      "execution_count": 51,
      "outputs": []
    },
    {
      "cell_type": "code",
      "source": [
        "def dropnan_df(raw_df:pd.DataFrame)->pd.DataFrame:\n",
        "\n",
        "    return raw_df.dropna()\n"
      ],
      "metadata": {
        "id": "UderhNmO7Gfs"
      },
      "execution_count": 52,
      "outputs": []
    },
    {
      "cell_type": "code",
      "source": [
        "def count_values_columns(df:pd.DataFrame,cols:list):\n",
        "    for s in cols:\n",
        "        print(df[s].value_counts())\n"
      ],
      "metadata": {
        "id": "HMDlfrOW_dLI"
      },
      "execution_count": 53,
      "outputs": []
    },
    {
      "cell_type": "code",
      "source": [
        "def Classify_continuous(df:pd.DataFrame,col_name ):\n",
        "\n",
        "    col=df[col_name]\n",
        "    min=np.min(col)\n",
        "    max=np.max(col)\n",
        "    mean=np.mean([max,min])\n",
        "    mean_75=np.mean([max,mean])\n",
        "    mean_25=np.mean([min,mean])\n",
        "    df.loc[df[col_name]<=min,col_name]=0\n",
        "    df.loc[(df[col_name]>min )& (df[col_name]<=mean_25),col_name]=1\n",
        "    df.loc[(df[col_name]>mean_25) & (df[col_name]<=mean),col_name]=2\n",
        "    df.loc[(df[col_name]>mean) & (df[col_name]<=mean_75),col_name]=3\n",
        "    df.loc[(df[col_name]>mean_75) & (df[col_name]<=max),col_name]=4\n",
        "    df.loc[df[col_name]>max ,col_name]=5\n"
      ],
      "metadata": {
        "id": "nAilIGDCF7zK"
      },
      "execution_count": 54,
      "outputs": []
    },
    {
      "cell_type": "code",
      "source": [
        "def custome_classify_age(df:pd.DataFrame,col=\"Age\")->pd.DataFrame:\n",
        "    df.loc[(df[col]>=1 )&(df[col]<=6),col]=0\n",
        "    df.loc[(df[col]==7 ),col]=1\n",
        "    df.loc[(df[col]==8 ),col]=2\n",
        "    df.loc[(df[col]==9 ),col]=3\n",
        "    df.loc[(df[col]==10 ),col]=4\n",
        "    df.loc[(df[col]==11 ),col]=5\n",
        "    #over 60 years\n",
        "    df.loc[(df[col]>=12 )&(df[col]<=13),col]=6\n",
        "\n"
      ],
      "metadata": {
        "id": "Od-4UwWNNyDX"
      },
      "execution_count": 55,
      "outputs": []
    },
    {
      "cell_type": "code",
      "source": [
        "def custome_classify_bmi(df:pd.DataFrame,col=\"BMI\"):\n",
        "    df.loc[(df[col]<=18.5),col]=0\n",
        "    df.loc[(df[col]>18.5)&(df[col]<=25),col]=1\n",
        "    df.loc[(df[col]>25)&(df[col]<=30),col]=2\n",
        "    df.loc[(df[col]>30)&(df[col]<=35),col]=3\n",
        "    df.loc[(df[col]>35)&(df[col]<=40),col]=4\n",
        "    df.loc[(df[col]>40),col]=5\n",
        "    return df"
      ],
      "metadata": {
        "id": "M9yZCuSQXIa_"
      },
      "execution_count": 56,
      "outputs": []
    },
    {
      "cell_type": "code",
      "source": [
        "def custome_classify_PhysHlth_MentHlth(df:pd.DataFrame):\n",
        "    df.loc[(df[\"MentHlth\"]<6),\"MentHlth\"]=0\n",
        "    df.loc[(df[\"MentHlth\"]>=6),\"MentHlth\"]=1\n",
        "\n",
        "    df.loc[(df[\"PhysHlth\"]<6),\"PhysHlth\"]=0\n",
        "    df.loc[(df[\"PhysHlth\"]>=6),\"PhysHlth\"]=1\n",
        "\n"
      ],
      "metadata": {
        "id": "Dges6uNFd-yI"
      },
      "execution_count": 57,
      "outputs": []
    },
    {
      "cell_type": "code",
      "source": [
        "def map_df(df:pd.DataFrame)-> pd.DataFrame:\n",
        "    gender_map={\n",
        "        \"Female\":0,\n",
        "        \"Male\":1\n",
        "    }\n",
        "    YesOrNo={\n",
        "        \"No\":0,\n",
        "        \"Yes\":1\n",
        "    }\n",
        "    df[\"Sex\"]=df[\"Sex\"].map(gender_map)\n",
        "    df[\"HighChol\"]=df[\"HighChol\"].map(YesOrNo)\n",
        "    df[\"CholCheck\"]=df[\"CholCheck\"].map(YesOrNo)\n",
        "    df[\"Smoker\"]=df[\"Smoker\"].map(YesOrNo)\n",
        "    df[\"HeartDiseaseorAttack\"]=df[\"HeartDiseaseorAttack\"].map(YesOrNo)\n",
        "    df[\"PhysActivity\"]=df[\"PhysActivity\"].map(YesOrNo)\n",
        "    df[\"Fruits\"]=df[\"Fruits\"].map(YesOrNo)\n",
        "    df[\"Veggies\"]=df[\"Veggies\"].map(YesOrNo)\n",
        "    df[\"HvyAlcoholConsump\"]=df[\"HvyAlcoholConsump\"].map(YesOrNo)\n",
        "    df[\"DiffWalk\"]=df[\"DiffWalk\"].map(YesOrNo)\n",
        "    df[\"Stroke\"]=df[\"Stroke\"].map(YesOrNo)\n",
        "    df[\"HighBP\"]=df[\"HighBP\"].map(YesOrNo)\n",
        "    df[\"Diabetes\"]=df[\"Diabetes\"].map(YesOrNo)\n",
        "\n",
        "\n",
        "    return df"
      ],
      "metadata": {
        "id": "pWk-w_FjCFyF"
      },
      "execution_count": 58,
      "outputs": []
    },
    {
      "cell_type": "code",
      "source": [
        "def split_train_test_valid(df, random_state=42, test_size=0.2, valid_size=0.2):\n",
        "    n = len(df)\n",
        "    np.random.seed(random_state)\n",
        "    indexes = np.random.permutation(n)\n",
        "\n",
        "\n",
        "    test_size_df = int(n * test_size)\n",
        "    valid_size_df = int((n - test_size_df) * valid_size)\n",
        "    train_size_df = n - (test_size_df + valid_size_df)\n",
        "\n",
        "\n",
        "    df_train = df.iloc[indexes[:train_size_df]].reset_index(drop=True)\n",
        "    df_test = df.iloc[indexes[train_size_df:train_size_df + test_size_df]].reset_index(drop=True)\n",
        "    df_valid = df.iloc[indexes[train_size_df + test_size_df:]].reset_index(drop=True)\n",
        "\n",
        "    return df_train, df_test, df_valid"
      ],
      "metadata": {
        "id": "vG7uM31_Qnet"
      },
      "execution_count": 59,
      "outputs": []
    },
    {
      "cell_type": "code",
      "source": [],
      "metadata": {
        "id": "rri9kpZrqW6S"
      },
      "execution_count": 59,
      "outputs": []
    },
    {
      "cell_type": "code",
      "source": [
        "def split_X_y(df,y_label=\"class\"):\n",
        "    y=df[y_label]\n",
        "    X=df.drop(columns=[y_label])\n",
        "    return X,y"
      ],
      "metadata": {
        "id": "rKOBwvUVXcR6"
      },
      "execution_count": 60,
      "outputs": []
    },
    {
      "cell_type": "code",
      "source": [
        "url_dataset=\"Dataset.csv\"\n",
        "df=load_dataset(url_dataset)\n",
        "df=dropnan_df(df)\n",
        "map_df(df)\n",
        "custome_classify_age(df,\"Age\")\n",
        "custome_classify_bmi(df,\"BMI\")\n",
        "custome_classify_PhysHlth_MentHlth(df)\n",
        "train_df,test_df,valid_df=split_train_test_valid(df,random_state=42,test_size=0.2,valid_size=0.2)\n",
        "X_train,y_train=split_X_y(train_df,\"Diabetes\")\n",
        "X_test,y_test=split_X_y(test_df,\"Diabetes\")\n",
        "X_valid,y_valid=split_X_y(valid_df,\"Diabetes\")\n"
      ],
      "metadata": {
        "id": "HHTeB14I4xbX",
        "colab": {
          "base_uri": "https://localhost:8080/"
        },
        "outputId": "a24e6433-cc57-4abb-fdcd-c44d3331e128"
      },
      "execution_count": 66,
      "outputs": [
        {
          "output_type": "stream",
          "name": "stdout",
          "text": [
            "<class 'pandas.core.frame.DataFrame'>\n",
            "RangeIndex: 70692 entries, 0 to 70691\n",
            "Data columns (total 18 columns):\n",
            " #   Column                Non-Null Count  Dtype  \n",
            "---  ------                --------------  -----  \n",
            " 0   Age                   70692 non-null  float64\n",
            " 1   Sex                   70692 non-null  int64  \n",
            " 2   HighChol              70692 non-null  int64  \n",
            " 3   CholCheck             70692 non-null  int64  \n",
            " 4   BMI                   70692 non-null  float64\n",
            " 5   Smoker                70692 non-null  int64  \n",
            " 6   HeartDiseaseorAttack  70692 non-null  int64  \n",
            " 7   PhysActivity          70692 non-null  int64  \n",
            " 8   Fruits                70692 non-null  int64  \n",
            " 9   Veggies               70692 non-null  int64  \n",
            " 10  HvyAlcoholConsump     70692 non-null  int64  \n",
            " 11  GenHlth               70692 non-null  float64\n",
            " 12  MentHlth              70692 non-null  float64\n",
            " 13  PhysHlth              70692 non-null  float64\n",
            " 14  DiffWalk              70692 non-null  int64  \n",
            " 15  Stroke                70692 non-null  int64  \n",
            " 16  HighBP                70692 non-null  int64  \n",
            " 17  Diabetes              70692 non-null  int64  \n",
            "dtypes: float64(5), int64(13)\n",
            "memory usage: 9.7 MB\n",
            "Age\n",
            "0.0    15385\n",
            "4.0    10856\n",
            "6.0    10820\n",
            "3.0    10112\n",
            "2.0     8603\n",
            "5.0     8044\n",
            "1.0     6872\n",
            "Name: count, dtype: int64\n",
            "Sex\n",
            "1    38386\n",
            "0    32306\n",
            "Name: count, dtype: int64\n",
            "HighChol\n",
            "1    37163\n",
            "0    33529\n",
            "Name: count, dtype: int64\n",
            "CholCheck\n",
            "1    68943\n",
            "0     1749\n",
            "Name: count, dtype: int64\n",
            "BMI\n",
            "2.0    24448\n",
            "1.0    18491\n",
            "3.0    15064\n",
            "4.0     6975\n",
            "5.0     5061\n",
            "0.0      653\n",
            "Name: count, dtype: int64\n",
            "Smoker\n",
            "0    37094\n",
            "1    33598\n",
            "Name: count, dtype: int64\n",
            "HeartDiseaseorAttack\n",
            "0    60243\n",
            "1    10449\n",
            "Name: count, dtype: int64\n",
            "PhysActivity\n",
            "1    49699\n",
            "0    20993\n",
            "Name: count, dtype: int64\n",
            "Fruits\n",
            "1    43249\n",
            "0    27443\n",
            "Name: count, dtype: int64\n",
            "Veggies\n",
            "1    55760\n",
            "0    14932\n",
            "Name: count, dtype: int64\n",
            "HvyAlcoholConsump\n",
            "0    67672\n",
            "1     3020\n",
            "Name: count, dtype: int64\n",
            "GenHlth\n",
            "3.0    23427\n",
            "2.0    19872\n",
            "4.0    13303\n",
            "1.0     8282\n",
            "5.0     5808\n",
            "Name: count, dtype: int64\n",
            "MentHlth\n",
            "0.0    58876\n",
            "1.0    11816\n",
            "Name: count, dtype: int64\n",
            "PhysHlth\n",
            "0.0    53016\n",
            "1.0    17676\n",
            "Name: count, dtype: int64\n",
            "DiffWalk\n",
            "0    52826\n",
            "1    17866\n",
            "Name: count, dtype: int64\n",
            "Stroke\n",
            "0    66297\n",
            "1     4395\n",
            "Name: count, dtype: int64\n",
            "HighBP\n",
            "1    39832\n",
            "0    30860\n",
            "Name: count, dtype: int64\n",
            "Diabetes\n",
            "0    35346\n",
            "1    35346\n",
            "Name: count, dtype: int64\n"
          ]
        }
      ]
    },
    {
      "cell_type": "code",
      "source": [],
      "metadata": {
        "id": "wm84xpXWuoQk"
      },
      "execution_count": 61,
      "outputs": []
    }
  ]
}