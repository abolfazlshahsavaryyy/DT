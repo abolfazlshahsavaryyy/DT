{
  "nbformat": 4,
  "nbformat_minor": 0,
  "metadata": {
    "colab": {
      "provenance": [],
      "authorship_tag": "ABX9TyOVh9VF3oPpYj0PxuGqfeDA",
      "include_colab_link": true
    },
    "kernelspec": {
      "name": "python3",
      "display_name": "Python 3"
    },
    "language_info": {
      "name": "python"
    }
  },
  "cells": [
    {
      "cell_type": "markdown",
      "metadata": {
        "id": "view-in-github",
        "colab_type": "text"
      },
      "source": [
        "<a href=\"https://colab.research.google.com/github/abolfazlshahsavaryyy/DT/blob/main/DT.ipynb\" target=\"_parent\"><img src=\"https://colab.research.google.com/assets/colab-badge.svg\" alt=\"Open In Colab\"/></a>"
      ]
    },
    {
      "cell_type": "code",
      "execution_count": 81,
      "metadata": {
        "id": "AtmVTGPsK2q1"
      },
      "outputs": [],
      "source": [
        "import pandas as pd\n",
        "import numpy as np\n",
        "from sklearn.tree import DecisionTreeClassifier"
      ]
    },
    {
      "cell_type": "code",
      "source": [
        "def compute_gini(*p):\n",
        "    if not (0.999 <= sum(p) <= 1.001):\n",
        "        raise ValueError(\"The probabilities must sum to 1.\")\n",
        "\n",
        "    result = 1\n",
        "    for i in p:\n",
        "        result -= i**2\n",
        "\n",
        "    return result"
      ],
      "metadata": {
        "id": "OrOJ2Tp6K63T"
      },
      "execution_count": 82,
      "outputs": []
    },
    {
      "cell_type": "code",
      "source": [
        "def compute_entropy(*p):\n",
        "    if not (0.999 <= sum(p) <= 1.001):\n",
        "        raise ValueError(\"The probabilities must sum to 1.\")\n",
        "\n",
        "    result = 0\n",
        "    for i in p:\n",
        "        if i > 0:\n",
        "            result += i * np.log2(i)\n",
        "\n",
        "    return -result"
      ],
      "metadata": {
        "id": "wljkhFS52zfM"
      },
      "execution_count": 83,
      "outputs": []
    },
    {
      "cell_type": "code",
      "source": [
        "def load_dataset(url:str)->pd.DataFrame:\n",
        "    raw_df=pd.read_csv(url)\n",
        "    return raw_df\n"
      ],
      "metadata": {
        "id": "8TPHFH2p4ZLm"
      },
      "execution_count": 84,
      "outputs": []
    },
    {
      "cell_type": "code",
      "source": [
        "def dropnan_df(raw_df:pd.DataFrame)->pd.DataFrame:\n",
        "\n",
        "    return raw_df.dropna()\n"
      ],
      "metadata": {
        "id": "UderhNmO7Gfs"
      },
      "execution_count": 85,
      "outputs": []
    },
    {
      "cell_type": "code",
      "source": [
        "def count_values_columns(df:pd.DataFrame,cols:list):\n",
        "    for s in cols:\n",
        "        print(df[s].value_counts())\n"
      ],
      "metadata": {
        "id": "HMDlfrOW_dLI"
      },
      "execution_count": 86,
      "outputs": []
    },
    {
      "cell_type": "code",
      "source": [
        "def Classify_continuous(df:pd.DataFrame,col_name ):\n",
        "\n",
        "    col=df[col_name]\n",
        "    min=np.min(col)\n",
        "    max=np.max(col)\n",
        "    mean=np.mean([max,min])\n",
        "    mean_75=np.mean([max,mean])\n",
        "    mean_25=np.mean([min,mean])\n",
        "    df.loc[df[col_name]<=min,col_name]=0\n",
        "    df.loc[(df[col_name]>min )& (df[col_name]<=mean_25),col_name]=1\n",
        "    df.loc[(df[col_name]>mean_25) & (df[col_name]<=mean),col_name]=2\n",
        "    df.loc[(df[col_name]>mean) & (df[col_name]<=mean_75),col_name]=3\n",
        "    df.loc[(df[col_name]>mean_75) & (df[col_name]<=max),col_name]=4\n",
        "    df.loc[df[col_name]>max ,col_name]=5\n"
      ],
      "metadata": {
        "id": "nAilIGDCF7zK"
      },
      "execution_count": 87,
      "outputs": []
    },
    {
      "cell_type": "code",
      "source": [
        "def custome_classify_age(df:pd.DataFrame,col=\"Age\")->pd.DataFrame:\n",
        "    df.loc[(df[col]>=1 )&(df[col]<=6),col]=0\n",
        "    df.loc[(df[col]==7 ),col]=1\n",
        "    df.loc[(df[col]==8 ),col]=2\n",
        "    df.loc[(df[col]==9 ),col]=3\n",
        "    df.loc[(df[col]==10 ),col]=4\n",
        "    df.loc[(df[col]==11 ),col]=5\n",
        "    #over 60 years\n",
        "    df.loc[(df[col]>=12 )&(df[col]<=13),col]=6\n",
        "\n"
      ],
      "metadata": {
        "id": "Od-4UwWNNyDX"
      },
      "execution_count": 88,
      "outputs": []
    },
    {
      "cell_type": "code",
      "source": [
        "def custome_classify_bmi(df:pd.DataFrame,col=\"BMI\"):\n",
        "    df.loc[(df[col]<=18.5),col]=0\n",
        "    df.loc[(df[col]>18.5)&(df[col]<=25),col]=1\n",
        "    df.loc[(df[col]>25)&(df[col]<=30),col]=2\n",
        "    df.loc[(df[col]>30)&(df[col]<=35),col]=3\n",
        "    df.loc[(df[col]>35)&(df[col]<=40),col]=4\n",
        "    df.loc[(df[col]>40),col]=5\n",
        "    return df"
      ],
      "metadata": {
        "id": "M9yZCuSQXIa_"
      },
      "execution_count": 89,
      "outputs": []
    },
    {
      "cell_type": "code",
      "source": [
        "def custome_classify_PhysHlth_MentHlth(df:pd.DataFrame):\n",
        "    df.loc[(df[\"MentHlth\"]<6),\"MentHlth\"]=0\n",
        "    df.loc[(df[\"MentHlth\"]>=6),\"MentHlth\"]=1\n",
        "\n",
        "    df.loc[(df[\"PhysHlth\"]<6),\"PhysHlth\"]=0\n",
        "    df.loc[(df[\"PhysHlth\"]>=6),\"PhysHlth\"]=1\n",
        "\n"
      ],
      "metadata": {
        "id": "Dges6uNFd-yI"
      },
      "execution_count": 90,
      "outputs": []
    },
    {
      "cell_type": "code",
      "source": [
        "def map_df(df:pd.DataFrame)-> pd.DataFrame:\n",
        "    gender_map={\n",
        "        \"Female\":0,\n",
        "        \"Male\":1\n",
        "    }\n",
        "    YesOrNo={\n",
        "        \"No\":0,\n",
        "        \"Yes\":1\n",
        "    }\n",
        "    df[\"Sex\"]=df[\"Sex\"].map(gender_map)\n",
        "    df[\"HighChol\"]=df[\"HighChol\"].map(YesOrNo)\n",
        "    df[\"CholCheck\"]=df[\"CholCheck\"].map(YesOrNo)\n",
        "    df[\"Smoker\"]=df[\"Smoker\"].map(YesOrNo)\n",
        "    df[\"HeartDiseaseorAttack\"]=df[\"HeartDiseaseorAttack\"].map(YesOrNo)\n",
        "    df[\"PhysActivity\"]=df[\"PhysActivity\"].map(YesOrNo)\n",
        "    df[\"Fruits\"]=df[\"Fruits\"].map(YesOrNo)\n",
        "    df[\"Veggies\"]=df[\"Veggies\"].map(YesOrNo)\n",
        "    df[\"HvyAlcoholConsump\"]=df[\"HvyAlcoholConsump\"].map(YesOrNo)\n",
        "    df[\"DiffWalk\"]=df[\"DiffWalk\"].map(YesOrNo)\n",
        "    df[\"Stroke\"]=df[\"Stroke\"].map(YesOrNo)\n",
        "    df[\"HighBP\"]=df[\"HighBP\"].map(YesOrNo)\n",
        "    df[\"Diabetes\"]=df[\"Diabetes\"].map(YesOrNo)\n",
        "\n",
        "\n",
        "    return df"
      ],
      "metadata": {
        "id": "pWk-w_FjCFyF"
      },
      "execution_count": 91,
      "outputs": []
    },
    {
      "cell_type": "code",
      "source": [
        "def split_train_test_valid(df, random_state=42, test_size=0.2, valid_size=0.2):\n",
        "    n = len(df)\n",
        "    np.random.seed(random_state)\n",
        "    indexes = np.random.permutation(n)\n",
        "\n",
        "\n",
        "    test_size_df = int(n * test_size)\n",
        "    valid_size_df = int((n - test_size_df) * valid_size)\n",
        "    train_size_df = n - (test_size_df + valid_size_df)\n",
        "\n",
        "\n",
        "    df_train = df.iloc[indexes[:train_size_df]].reset_index(drop=True)\n",
        "    df_test = df.iloc[indexes[train_size_df:train_size_df + test_size_df]].reset_index(drop=True)\n",
        "    df_valid = df.iloc[indexes[train_size_df + test_size_df:]].reset_index(drop=True)\n",
        "\n",
        "    return df_train, df_test, df_valid"
      ],
      "metadata": {
        "id": "vG7uM31_Qnet"
      },
      "execution_count": 92,
      "outputs": []
    },
    {
      "cell_type": "code",
      "source": [],
      "metadata": {
        "id": "rri9kpZrqW6S"
      },
      "execution_count": 92,
      "outputs": []
    },
    {
      "cell_type": "code",
      "source": [
        "def split_X_y(df,y_label=\"class\"):\n",
        "    y=df[y_label]\n",
        "    X=df.drop(columns=[y_label])\n",
        "    return X,y"
      ],
      "metadata": {
        "id": "rKOBwvUVXcR6"
      },
      "execution_count": 93,
      "outputs": []
    },
    {
      "cell_type": "code",
      "source": [
        "url_dataset=\"https://raw.githubusercontent.com/abolfazlshahsavaryyy/DT/main/Dataset.csv\"\n",
        "df=load_dataset(url_dataset)\n",
        "df=dropnan_df(df)\n",
        "map_df(df)\n",
        "custome_classify_age(df,\"Age\")\n",
        "custome_classify_bmi(df,\"BMI\")\n",
        "custome_classify_PhysHlth_MentHlth(df)\n",
        "train_df,test_df,valid_df=split_train_test_valid(df,random_state=42,test_size=0.2,valid_size=0.2)\n",
        "X_train,y_train=split_X_y(train_df,\"Diabetes\")\n",
        "X_test,y_test=split_X_y(test_df,\"Diabetes\")\n",
        "X_valid,y_valid=split_X_y(valid_df,\"Diabetes\")\n",
        "df.head()\n",
        "df.info()"
      ],
      "metadata": {
        "id": "HHTeB14I4xbX",
        "colab": {
          "base_uri": "https://localhost:8080/"
        },
        "outputId": "9b60915f-85c3-4ace-ae05-cc1e0c8e387d"
      },
      "execution_count": 96,
      "outputs": [
        {
          "output_type": "stream",
          "name": "stdout",
          "text": [
            "<class 'pandas.core.frame.DataFrame'>\n",
            "RangeIndex: 70692 entries, 0 to 70691\n",
            "Data columns (total 18 columns):\n",
            " #   Column                Non-Null Count  Dtype  \n",
            "---  ------                --------------  -----  \n",
            " 0   Age                   70692 non-null  float64\n",
            " 1   Sex                   70692 non-null  int64  \n",
            " 2   HighChol              70692 non-null  int64  \n",
            " 3   CholCheck             70692 non-null  int64  \n",
            " 4   BMI                   70692 non-null  float64\n",
            " 5   Smoker                70692 non-null  int64  \n",
            " 6   HeartDiseaseorAttack  70692 non-null  int64  \n",
            " 7   PhysActivity          70692 non-null  int64  \n",
            " 8   Fruits                70692 non-null  int64  \n",
            " 9   Veggies               70692 non-null  int64  \n",
            " 10  HvyAlcoholConsump     70692 non-null  int64  \n",
            " 11  GenHlth               70692 non-null  float64\n",
            " 12  MentHlth              70692 non-null  float64\n",
            " 13  PhysHlth              70692 non-null  float64\n",
            " 14  DiffWalk              70692 non-null  int64  \n",
            " 15  Stroke                70692 non-null  int64  \n",
            " 16  HighBP                70692 non-null  int64  \n",
            " 17  Diabetes              70692 non-null  int64  \n",
            "dtypes: float64(5), int64(13)\n",
            "memory usage: 9.7 MB\n"
          ]
        }
      ]
    },
    {
      "cell_type": "code",
      "source": [],
      "metadata": {
        "id": "wm84xpXWuoQk"
      },
      "execution_count": 94,
      "outputs": []
    }
  ]
}