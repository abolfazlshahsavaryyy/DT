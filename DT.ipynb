{
  "nbformat": 4,
  "nbformat_minor": 0,
  "metadata": {
    "colab": {
      "provenance": [],
      "authorship_tag": "ABX9TyPLb0/R7yHRnC4YggHCVIlK",
      "include_colab_link": true
    },
    "kernelspec": {
      "name": "python3",
      "display_name": "Python 3"
    },
    "language_info": {
      "name": "python"
    }
  },
  "cells": [
    {
      "cell_type": "markdown",
      "metadata": {
        "id": "view-in-github",
        "colab_type": "text"
      },
      "source": [
        "<a href=\"https://colab.research.google.com/github/abolfazlshahsavaryyy/DT/blob/main/DT.ipynb\" target=\"_parent\"><img src=\"https://colab.research.google.com/assets/colab-badge.svg\" alt=\"Open In Colab\"/></a>"
      ]
    },
    {
      "cell_type": "code",
      "execution_count": 117,
      "metadata": {
        "id": "AtmVTGPsK2q1"
      },
      "outputs": [],
      "source": [
        "import pandas as pd\n",
        "import numpy as np\n"
      ]
    },
    {
      "cell_type": "code",
      "source": [
        "def compute_gini(*p):\n",
        "    if not (0.999 <= sum(p) <= 1.001):\n",
        "        raise ValueError(\"The probabilities must sum to 1.\")\n",
        "\n",
        "    result = 1\n",
        "    for i in p:\n",
        "        result -= i**2\n",
        "\n",
        "    return result"
      ],
      "metadata": {
        "id": "OrOJ2Tp6K63T"
      },
      "execution_count": 118,
      "outputs": []
    },
    {
      "cell_type": "code",
      "source": [
        "def compute_entropy(*p):\n",
        "    if not (0.999 <= sum(p) <= 1.001):\n",
        "        raise ValueError(\"The probabilities must sum to 1.\")\n",
        "\n",
        "    result = 0\n",
        "    for i in p:\n",
        "        if i > 0:\n",
        "            result += i * np.log2(i)\n",
        "\n",
        "    return -result"
      ],
      "metadata": {
        "id": "wljkhFS52zfM"
      },
      "execution_count": 119,
      "outputs": []
    },
    {
      "cell_type": "code",
      "source": [
        "def load_dataset(url:str)->pd.DataFrame:\n",
        "    raw_df=pd.read_csv(url)\n",
        "    return raw_df\n"
      ],
      "metadata": {
        "id": "8TPHFH2p4ZLm"
      },
      "execution_count": 120,
      "outputs": []
    },
    {
      "cell_type": "code",
      "source": [
        "def dropnan_df(raw_df:pd.DataFrame)->pd.DataFrame:\n",
        "    raw_df=raw_df.drop(\"id\",axis=1)\n",
        "    raw_df=raw_df.drop(\"row\",axis=1)\n",
        "    return raw_df.dropna()\n"
      ],
      "metadata": {
        "id": "UderhNmO7Gfs"
      },
      "execution_count": 121,
      "outputs": []
    },
    {
      "cell_type": "code",
      "source": [
        "def count_values_columns(df:pd.DataFrame,cols:list):\n",
        "    for s in cols:\n",
        "        print(df[s].value_counts())\n"
      ],
      "metadata": {
        "id": "HMDlfrOW_dLI"
      },
      "execution_count": 122,
      "outputs": []
    },
    {
      "cell_type": "code",
      "source": [
        "def Classify_continuous(df:pd.DataFrame,col_name ):\n",
        "\n",
        "    col=df[col_name]\n",
        "    min=np.min(col)\n",
        "    max=np.max(col)\n",
        "    mean=np.mean([max,min])\n",
        "    mean_75=np.mean([max,mean])\n",
        "    mean_25=np.mean([min,mean])\n",
        "    df.loc[df[col_name]<=min,col_name]=0\n",
        "    df.loc[(df[col_name]>min )& (df[col_name]<=mean_25),col_name]=1\n",
        "    df.loc[(df[col_name]>mean_25) & (df[col_name]<=mean),col_name]=2\n",
        "    df.loc[(df[col_name]>mean) & (df[col_name]<=mean_75),col_name]=3\n",
        "    df.loc[(df[col_name]>mean_75) & (df[col_name]<=max),col_name]=4\n",
        "    df.loc[df[col_name]>max ,col_name]=5\n",
        "    return df"
      ],
      "metadata": {
        "id": "nAilIGDCF7zK"
      },
      "execution_count": 123,
      "outputs": []
    },
    {
      "cell_type": "code",
      "source": [
        "def classify_df(df:pd.DataFrame)-> pd.DataFrame:\n",
        "    gender_map={\n",
        "        \"Female\":0,\n",
        "        \"Male\":1\n",
        "    }\n",
        "    type_travel_map={\n",
        "        \"Business travel\":0,\n",
        "        \"Personal Travel\":1\n",
        "    }\n",
        "    customer_type_map={\n",
        "        \"Loyal Customer\":0,\n",
        "        \"disloyal Customer\":1\n",
        "    }\n",
        "    class_map={\n",
        "        \"Business\":0,\n",
        "        \"Eco\":1,\n",
        "        \"Eco Plus\":2\n",
        "    }\n",
        "    df[\"Gender\"]=df[\"Gender\"].map(gender_map)\n",
        "    df[\"Type of Travel\"]=df[\"Type of Travel\"].map(type_travel_map)\n",
        "    df[\"Customer Type\"]=df[\"Customer Type\"].map(customer_type_map)\n",
        "    df[\"Class\"]=df[\"Class\"].map(class_map)\n",
        "\n",
        "\n",
        "    return df"
      ],
      "metadata": {
        "id": "pWk-w_FjCFyF"
      },
      "execution_count": 124,
      "outputs": []
    },
    {
      "cell_type": "code",
      "source": [
        "url_dataset=\"Dataset.csv\"\n",
        "raw_df=load_dataset(url_dataset)\n",
        "raw_df=dropnan_df(raw_df)\n",
        "df=classify_df(raw_df)\n",
        "df=Classify_continuous(df,\"Age\")\n",
        "df=Classify_continuous(df,\"Flight Distance\")\n",
        "df=Classify_continuous(df,\"Arrival Delay in Minutes\")\n",
        "df=Classify_continuous(df,\"Departure Delay in Minutes\")\n"
      ],
      "metadata": {
        "id": "HHTeB14I4xbX"
      },
      "execution_count": 125,
      "outputs": []
    },
    {
      "cell_type": "code",
      "source": [],
      "metadata": {
        "id": "58XNjylK59EN"
      },
      "execution_count": 125,
      "outputs": []
    }
  ]
}