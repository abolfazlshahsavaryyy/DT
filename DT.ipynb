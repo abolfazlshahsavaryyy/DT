{
  "nbformat": 4,
  "nbformat_minor": 0,
  "metadata": {
    "colab": {
      "provenance": [],
      "authorship_tag": "ABX9TyO+oXeXtSeDb5XN1ozo3RiD",
      "include_colab_link": true
    },
    "kernelspec": {
      "name": "python3",
      "display_name": "Python 3"
    },
    "language_info": {
      "name": "python"
    }
  },
  "cells": [
    {
      "cell_type": "markdown",
      "metadata": {
        "id": "view-in-github",
        "colab_type": "text"
      },
      "source": [
        "<a href=\"https://colab.research.google.com/github/abolfazlshahsavaryyy/DT/blob/main/DT.ipynb\" target=\"_parent\"><img src=\"https://colab.research.google.com/assets/colab-badge.svg\" alt=\"Open In Colab\"/></a>"
      ]
    },
    {
      "cell_type": "code",
      "execution_count": 106,
      "metadata": {
        "id": "AtmVTGPsK2q1"
      },
      "outputs": [],
      "source": [
        "import pandas as pd\n",
        "import numpy as np\n",
        "from sklearn.tree import DecisionTreeClassifier"
      ]
    },
    {
      "cell_type": "code",
      "source": [
        "def compute_gini(*p):\n",
        "    if not (0.999 <= sum(p) <= 1.001):\n",
        "        raise ValueError(\"The probabilities must sum to 1.\")\n",
        "\n",
        "    result = 1\n",
        "    for i in p:\n",
        "        result -= i**2\n",
        "\n",
        "    return result"
      ],
      "metadata": {
        "id": "OrOJ2Tp6K63T"
      },
      "execution_count": 107,
      "outputs": []
    },
    {
      "cell_type": "code",
      "source": [
        "def compute_entropy(*p):\n",
        "    if not (0.999 <= sum(p) <= 1.001):\n",
        "        raise ValueError(\"The probabilities must sum to 1.\")\n",
        "\n",
        "    result = 0\n",
        "    for i in p:\n",
        "        if i > 0:\n",
        "            result += i * np.log2(i)\n",
        "\n",
        "    return -result"
      ],
      "metadata": {
        "id": "wljkhFS52zfM"
      },
      "execution_count": 108,
      "outputs": []
    },
    {
      "cell_type": "code",
      "source": [
        "def load_dataset(url:str)->pd.DataFrame:\n",
        "    raw_df=pd.read_csv(url)\n",
        "    return raw_df\n"
      ],
      "metadata": {
        "id": "8TPHFH2p4ZLm"
      },
      "execution_count": 109,
      "outputs": []
    },
    {
      "cell_type": "code",
      "source": [
        "def dropnan_df(raw_df:pd.DataFrame)->pd.DataFrame:\n",
        "    raw_df=raw_df.drop(\"id\",axis=1)\n",
        "    raw_df=raw_df.drop(\"row\",axis=1)\n",
        "    return raw_df.dropna()\n"
      ],
      "metadata": {
        "id": "UderhNmO7Gfs"
      },
      "execution_count": 110,
      "outputs": []
    },
    {
      "cell_type": "code",
      "source": [
        "def count_values_columns(df:pd.DataFrame,cols:list):\n",
        "    for s in cols:\n",
        "        print(df[s].value_counts())\n"
      ],
      "metadata": {
        "id": "HMDlfrOW_dLI"
      },
      "execution_count": 111,
      "outputs": []
    },
    {
      "cell_type": "code",
      "source": [
        "def Classify_continuous(df:pd.DataFrame,col_name ):\n",
        "\n",
        "    col=df[col_name]\n",
        "    min=np.min(col)\n",
        "    max=np.max(col)\n",
        "    mean=np.mean([max,min])\n",
        "    mean_75=np.mean([max,mean])\n",
        "    mean_25=np.mean([min,mean])\n",
        "    df.loc[df[col_name]<=min,col_name]=0\n",
        "    df.loc[(df[col_name]>min )& (df[col_name]<=mean_25),col_name]=1\n",
        "    df.loc[(df[col_name]>mean_25) & (df[col_name]<=mean),col_name]=2\n",
        "    df.loc[(df[col_name]>mean) & (df[col_name]<=mean_75),col_name]=3\n",
        "    df.loc[(df[col_name]>mean_75) & (df[col_name]<=max),col_name]=4\n",
        "    df.loc[df[col_name]>max ,col_name]=5\n",
        ""
      ],
      "metadata": {
        "id": "nAilIGDCF7zK"
      },
      "execution_count": 112,
      "outputs": []
    },
    {
      "cell_type": "code",
      "source": [
        "def custome_classify_age(df:pd.DataFrame,col=\"Age\")->pd.DataFrame:\n",
        "    df.loc[(df[col]>=1 )&(df[col]<=6),col]=0\n",
        "    df.loc[(df[col]==7 ),col]=1\n",
        "    df.loc[(df[col]==8 ),col]=2\n",
        "    df.loc[(df[col]==9 ),col]=3\n",
        "    df.loc[(df[col]==10 ),col]=4\n",
        "    df.loc[(df[col]==11 ),col]=5\n",
        "    #over 60 years\n",
        "    df.loc[(df[col]>=12 )&(df[col]<=13),col]=6\n",
        "\n"
      ],
      "metadata": {
        "id": "Od-4UwWNNyDX"
      },
      "execution_count": 113,
      "outputs": []
    },
    {
      "cell_type": "code",
      "source": [
        "def custome_classify_bmi(df:pd.DataFrame,col=\"BMI\"):\n",
        "    df.loc[(df[col]<=18.5),col]=0\n",
        "    df.loc[(df[col]>18.5)&(df[col]<=25),col]=1\n",
        "    df.loc[(df[col]>25)&(df[col]<=30),col]=2\n",
        "    df.loc[(df[col]>30)&(df[col]<=35),col]=3\n",
        "    df.loc[(df[col]>35)&(df[col]<=40),col]=4\n",
        "    df.loc[(df[col]>40),col]=5\n",
        "    return df"
      ],
      "metadata": {
        "id": "M9yZCuSQXIa_"
      },
      "execution_count": 114,
      "outputs": []
    },
    {
      "cell_type": "code",
      "source": [
        "def custome_classify_PhysHlth_MentHlth(df:pd.DataFrame):\n",
        "    df.loc[(df[\"MentHlth\"]<6),\"MentHlth\"]=0\n",
        "    df.loc[(df[\"MentHlth\"]>=6),\"MentHlth\"]=1\n",
        "\n",
        "    df.loc[(df[\"PhysHlth\"]<6),\"PhysHlth\"]=0\n",
        "    df.loc[(df[\"PhysHlth\"]>=6),\"PhysHlth\"]=1\n",
        "\n"
      ],
      "metadata": {
        "id": "Dges6uNFd-yI"
      },
      "execution_count": 115,
      "outputs": []
    },
    {
      "cell_type": "code",
      "source": [
        "def classify_df(df:pd.DataFrame)-> pd.DataFrame:\n",
        "    gender_map={\n",
        "        \"Female\":0,\n",
        "        \"Male\":1\n",
        "    }\n",
        "    type_travel_map={\n",
        "        \"Business travel\":0,\n",
        "        \"Personal Travel\":1\n",
        "    }\n",
        "    customer_type_map={\n",
        "        \"Loyal Customer\":0,\n",
        "        \"disloyal Customer\":1\n",
        "    }\n",
        "    class_map={\n",
        "        \"Business\":0,\n",
        "        \"Eco\":1,\n",
        "        \"Eco Plus\":2\n",
        "    }\n",
        "    df[\"Gender\"]=df[\"Gender\"].map(gender_map)\n",
        "    df[\"Type of Travel\"]=df[\"Type of Travel\"].map(type_travel_map)\n",
        "    df[\"Customer Type\"]=df[\"Customer Type\"].map(customer_type_map)\n",
        "    df[\"Class\"]=df[\"Class\"].map(class_map)\n",
        "\n",
        "\n",
        "    return df"
      ],
      "metadata": {
        "id": "pWk-w_FjCFyF"
      },
      "execution_count": 116,
      "outputs": []
    },
    {
      "cell_type": "code",
      "source": [
        "def split_train_test_valid(df, random_state=42, test_size=0.2, valid_size=0.2):\n",
        "    n = len(df)\n",
        "    np.random.seed(random_state)\n",
        "    indexes = np.random.permutation(n)\n",
        "\n",
        "\n",
        "    test_size_df = int(n * test_size)\n",
        "    valid_size_df = int((n - test_size_df) * valid_size)\n",
        "    train_size_df = n - (test_size_df + valid_size_df)\n",
        "\n",
        "\n",
        "    df_train = df.iloc[indexes[:train_size_df]].reset_index(drop=True)\n",
        "    df_test = df.iloc[indexes[train_size_df:train_size_df + test_size_df]].reset_index(drop=True)\n",
        "    df_valid = df.iloc[indexes[train_size_df + test_size_df:]].reset_index(drop=True)\n",
        "\n",
        "    return df_train, df_test, df_valid"
      ],
      "metadata": {
        "id": "vG7uM31_Qnet"
      },
      "execution_count": 117,
      "outputs": []
    },
    {
      "cell_type": "code",
      "source": [],
      "metadata": {
        "id": "rri9kpZrqW6S"
      },
      "execution_count": 117,
      "outputs": []
    },
    {
      "cell_type": "code",
      "source": [
        "def split_X_y(df,y_label=\"class\"):\n",
        "    y=df[y_label]\n",
        "    X=df.drop(columns=[y_label])\n",
        "    return X,y"
      ],
      "metadata": {
        "id": "rKOBwvUVXcR6"
      },
      "execution_count": 118,
      "outputs": []
    },
    {
      "cell_type": "code",
      "source": [
        "url_dataset=\"diabetes_data.csv\"\n",
        "df=load_dataset(url_dataset)\n",
        "custome_classify_age(df,\"Age\")\n",
        "custome_classify_bmi(df,\"BMI\")\n",
        "custome_classify_PhysHlth_MentHlth(df)\n",
        "train_df,test_df,valid_df=split_train_test_valid(df,random_state=42,test_size=0.2,valid_size=0.2)\n",
        "X_train,y_train=split_X_y(train_df,\"Diabetes\")\n",
        "X_test,y_test=split_X_y(test_df,\"Diabetes\")\n",
        "X_valid,y_valid=split_X_y(valid_df,\"Diabetes\")\n"
      ],
      "metadata": {
        "id": "HHTeB14I4xbX"
      },
      "execution_count": 119,
      "outputs": []
    },
    {
      "cell_type": "code",
      "source": [],
      "metadata": {
        "id": "wm84xpXWuoQk"
      },
      "execution_count": 119,
      "outputs": []
    }
  ]
}